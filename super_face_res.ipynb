{
 "cells": [
  {
   "cell_type": "code",
   "execution_count": 1,
   "metadata": {
    "collapsed": true
   },
   "outputs": [],
   "source": [
    "opt = {\n",
    "    outchan = 3,\n",
    "    inchan = 3,\n",
    "    num_frames = 3,\n",
    "    num_epoch = 1000,\n",
    "    batchsize = 128,\n",
    "    valSize = 32,\n",
    "    gpu = false\n",
    "}"
   ]
  },
  {
   "cell_type": "code",
   "execution_count": 2,
   "metadata": {
    "collapsed": false
   },
   "outputs": [],
   "source": [
    "function string:split( inSplitPattern, outResults )\n",
    "  if not outResults then\n",
    "    outResults = { }\n",
    "  end\n",
    "  local theStart = 1\n",
    "  local theSplitStart, theSplitEnd = string.find( self, inSplitPattern, \n",
    "theStart )\n",
    "  while theSplitStart do\n",
    "    table.insert( outResults, string.sub( self, theStart, theSplitStart-1 ) )\n",
    "    theStart = theSplitEnd + 1\n",
    "    theSplitStart, theSplitEnd = string.find( self, inSplitPattern, theStart )\n",
    "  end\n",
    "  table.insert( outResults, string.sub( self, theStart ) )\n",
    "  return outResults\n",
    "end"
   ]
  },
  {
   "cell_type": "code",
   "execution_count": 3,
   "metadata": {
    "collapsed": false
   },
   "outputs": [
    {
     "data": {
      "text/plain": [
       "Images loaded\t\n"
      ]
     },
     "execution_count": 3,
     "metadata": {},
     "output_type": "execute_result"
    }
   ],
   "source": [
    "image = require 'image'\n",
    "torch.setdefaulttensortype('torch.FloatTensor')\n",
    "\n",
    "if opt.gpu then\n",
    "    require 'cutorch'\n",
    "    require 'cunn'\n",
    "else\n",
    "    inputdir = '/home/nicholas/Documents/small_faces/'\n",
    "    truthdir = '/home/nicholas/Documents/big_faces/'\n",
    "    inputvaldir = '/home/nicholas/Documents/small_val/'\n",
    "    truthvaldir = '/home/nicholas/Documents/big_val/'\n",
    "end\n",
    "\n",
    "invidnames = {}\n",
    "input_imgs = torch.FloatTensor()\n",
    "label_imgs = torch.FloatTensor()\n",
    "valimgs = torch.FloatTensor()\n",
    "vallabels = torch.FloatTensor()\n",
    "\n",
    "for file in paths.files('./') do\n",
    "    if file:find('invidnames.t7' .. '$') then\n",
    "        invidnames = torch.load('invidnames.t7')\n",
    "    end\n",
    "    if file:find('input_imgs.t7' .. '$') then\n",
    "        input_imgs = torch.load('input_imgs.t7')\n",
    "    end\n",
    "    if file:find('label_imgs.t7' .. '$') then\n",
    "        label_imgs = torch.load('label_imgs.t7')\n",
    "    end\n",
    "    if file:find('valvidnames.t7' .. '$') then\n",
    "        valvidnames = torch.load('valvidnames.t7')\n",
    "    end\n",
    "    if file:find('valimgs.t7' .. '$') then\n",
    "        valimgs = torch.load('valimgs.t7')\n",
    "    end\n",
    "    if file:find('vallabels.t7' .. '$') then\n",
    "        vallabels = torch.load('vallabels.t7')\n",
    "    end\n",
    "end\n",
    "\n",
    "if input_imgs:nDimension() == 0 then\n",
    "    print('Loading all images from files')\n",
    "    inputfiles = {}\n",
    "    labelfiles = {}\n",
    "    inputvalfiles = {}\n",
    "    truthvalfiles = {}\n",
    "    \n",
    "    numTraining = 0\n",
    "    numVal = 0\n",
    "    \n",
    "    for file in paths.files(inputdir) do\n",
    "       if file:find('png' .. '$') then\n",
    "        table.insert(inputfiles, paths.concat(inputdir,file))\n",
    "        numTraining = numTraining + 1\n",
    "       end\n",
    "    end\n",
    "    for file in paths.files(truthdir) do\n",
    "       if file:find('png' .. '$') then\n",
    "        table.insert(labelfiles, paths.concat(truthdir,file))\n",
    "       end\n",
    "    end\n",
    "    for file in paths.files(inputvaldir) do\n",
    "       if file:find('png' .. '$') then\n",
    "        table.insert(inputvalfiles, paths.concat(inputvaldir,file))\n",
    "        numVal = numVal + 1\n",
    "       end\n",
    "    end\n",
    "    for file in paths.files(truthvaldir) do\n",
    "       if file:find('png' .. '$') then\n",
    "        table.insert(truthvalfiles, paths.concat(truthvaldir,file))\n",
    "       end\n",
    "    end\n",
    "\n",
    "\n",
    "    -- Check files\n",
    "    if #inputfiles == 0 or #labelfiles == 0 then\n",
    "       error('given directory doesnt contain any files')\n",
    "    end\n",
    "    table.sort(inputfiles, function (a,b) return a < b end)\n",
    "    table.sort(labelfiles, function (a,b) return a < b end)\n",
    "    table.sort(inputvalfiles, function (a,b) return a < b end)\n",
    "    table.sort(truthvalfiles, function (a,b) return a < b end)\n",
    "\n",
    "    invidnames = {}\n",
    "    input_imgs = torch.FloatTensor(numTraining, opt.inchan, 16, 16)\n",
    "    label_imgs = torch.FloatTensor(numTraining, opt.outchan, 32, 32)\n",
    "\n",
    "    for i,file in ipairs(inputfiles) do \n",
    "       input_imgs[i] = image.load(file)\n",
    "       table.insert(invidnames, file:split('%.')[1])\n",
    "    end\n",
    "\n",
    "    for i,file in ipairs(labelfiles) do \n",
    "       label_imgs[i] = image.load(file)\n",
    "    end\n",
    "\n",
    "    -- construct validation set\n",
    "    valvidnames = {}\n",
    "    valimgs = torch.FloatTensor(numVal, opt.inchan, 16, 16)\n",
    "    vallabels = torch.FloatTensor(numVal, opt.outchan, 32, 32)\n",
    "\n",
    "    for i,file in ipairs(inputvalfiles) do \n",
    "       valimgs[i] = image.load(file)\n",
    "       table.insert(valvidnames, file:split('%.')[1])\n",
    "    end\n",
    "    for i,file in ipairs(truthvalfiles) do \n",
    "       vallabels[i] = image.load(file)\n",
    "    end\n",
    "\n",
    "    torch.save('invidnames.t7', invidnames)\n",
    "    torch.save('input_imgs.t7', input_imgs)\n",
    "    torch.save('label_imgs.t7', label_imgs)\n",
    "    torch.save('valvidnames.t7', valvidnames)\n",
    "    torch.save('valimgs.t7', valimgs)\n",
    "    torch.save('vallabels.t7', vallabels)\n",
    "end\n",
    "\n",
    "print('Images loaded')"
   ]
  },
  {
   "cell_type": "code",
   "execution_count": 4,
   "metadata": {
    "collapsed": false,
    "scrolled": true
   },
   "outputs": [],
   "source": [
    "-- if not opt.gpu then\n",
    "--     for i = 1,5 do\n",
    "--        itorch.image(input_imgs[i])\n",
    "--     end\n",
    "--     for i = 1,5 do\n",
    "--        itorch.image(label_imgs[i])\n",
    "--     end\n",
    "--     for i = 1,5 do\n",
    "--        itorch.image(valimgs[i])\n",
    "--     end\n",
    "--     for i = 1,5 do\n",
    "--        itorch.image(vallabels[i])\n",
    "--     end\n",
    "-- end\n",
    "-- for i = 1,10 do\n",
    "--    image.save(('validation/val_img_%d_input.png'):format(i), valimgs[i])\n",
    "--    image.save(('validation/val_img_%d_label.png'):format(i), vallabels[i])\n",
    "-- end"
   ]
  },
  {
   "cell_type": "code",
   "execution_count": 5,
   "metadata": {
    "collapsed": false
   },
   "outputs": [],
   "source": [
    "require 'nn'\n",
    "\n",
    "-- input: inchan x 16 x 16\n",
    "gen = nn.Sequential()\n",
    "\n",
    "gen:add(nn.SpatialFullConvolution(opt.inchan * opt.num_frames, opt.outchan * 12, 3, 3))\n",
    "gen:add(nn.ReLU(true))\n",
    "-- gen:add(nn.SpatialBatchNormalization(opt.outchan * 2)):add(nn.ReLU(true))\n",
    "-- -- size: opt.outchan * 8 x 18 x 18 \n",
    "\n",
    "gen:add(nn.SpatialFullConvolution(opt.outchan * 12, opt.outchan * 6, 7, 7))\n",
    "gen:add(nn.ReLU(true))\n",
    "-- gen:add(nn.SpatialBatchNormalization(opt.outchan)):add(nn.ReLU(true))\n",
    "-- size: opt.outchan * 4 x 24 x 24 \n",
    "\n",
    "gen:add(nn.SpatialFullConvolution(opt.outchan * 6, opt.outchan, 9, 9))\n",
    "gen:add(nn.ReLU(true))  \n",
    "-- size: opt.outchan x 32 x 32\n",
    "\n",
    "-- gen = nn.Sequential()\n",
    "\n",
    "-- frames = nn.Parallel(2, 2)\n",
    "\n",
    "-- upscale = nn.Sequential()\n",
    "-- upscale:add(nn.SpatialFullConvolution(opt.inchan, opt.outchan * 8, 3, 3))\n",
    "-- upscale:add(nn.ReLU(true))\n",
    "-- -- upscale:add(nn.SpatialBatchNormalization(opt.outchan * 8)):add(nn.ReLU(true))\n",
    "-- -- -- size: opt.outchan * 8 x 18 x 18 \n",
    "\n",
    "-- upscale:add(nn.SpatialFullConvolution(opt.outchan * 8, opt.outchan * 4, 7, 7))\n",
    "-- upscale:add(nn.ReLU(true))\n",
    "-- -- upscale:add(nn.SpatialBatchNormalization(opt.outchan * 4)):add(nn.ReLU(true))\n",
    "-- -- size: opt.outchan * 4 x 24 x 24 \n",
    "\n",
    "-- upscale:add(nn.SpatialFullConvolution(opt.outchan * 4, opt.outchan, 9, 9))\n",
    "-- upscale:add(nn.ReLU(true))  \n",
    "-- -- size: opt.outchan x 32 x 32\n",
    "\n",
    "-- frames:add(upscale)\n",
    "-- frames:add(upscale)\n",
    "-- frames:add(upscale)\n",
    "\n",
    "-- gen:add(frames)\n",
    "-- gen:add(nn.SpatialConvolutionLocal(opt.outchan * opt.num_frames, opt.outchan, 32, 32, 1, 1))"
   ]
  },
  {
   "cell_type": "code",
   "execution_count": 6,
   "metadata": {
    "collapsed": false
   },
   "outputs": [
    {
     "data": {
      "image/png": "[encoded data removed]",
      "text/plain": [
       "Console does not support images"
      ]
     },
     "metadata": {
      "image/png": {
       "height": 36,
       "width": 108
      }
     },
     "output_type": "display_data"
    },
    {
     "data": {
      "image/png": "[encoded data removed]",
      "text/plain": [
       "Console does not support images"
      ]
     },
     "metadata": {
      "image/png": {
       "height": 32,
       "width": 32
      }
     },
     "output_type": "display_data"
    },
    {
     "data": {
      "image/png": "[encoded data removed]",
      "text/plain": [
       "Console does not support images"
      ]
     },
     "metadata": {
      "image/png": {
       "height": 36,
       "width": 108
      }
     },
     "output_type": "display_data"
    },
    {
     "data": {
      "image/png": "[encoded data removed]",
      "text/plain": [
       "Console does not support images"
      ]
     },
     "metadata": {
      "image/png": {
       "height": 32,
       "width": 32
      }
     },
     "output_type": "display_data"
    },
    {
     "data": {
      "image/png": "[encoded data removed]",
      "text/plain": [
       "Console does not support images"
      ]
     },
     "metadata": {
      "image/png": {
       "height": 36,
       "width": 108
      }
     },
     "output_type": "display_data"
    },
    {
     "data": {
      "image/png": "[encoded data removed]",
      "text/plain": [
       "Console does not support images"
      ]
     },
     "metadata": {
      "image/png": {
       "height": 32,
       "width": 32
      }
     },
     "output_type": "display_data"
    },
    {
     "data": {
      "image/png": "[encoded data removed]",
      "text/plain": [
       "Console does not support images"
      ]
     },
     "metadata": {
      "image/png": {
       "height": 36,
       "width": 108
      }
     },
     "output_type": "display_data"
    },
    {
     "data": {
      "image/png": "[encoded data removed]",
      "text/plain": [
       "Console does not support images"
      ]
     },
     "metadata": {
      "image/png": {
       "height": 32,
       "width": 32
      }
     },
     "output_type": "display_data"
    },
    {
     "data": {
      "image/png": "[encoded data removed]",
      "text/plain": [
       "Console does not support images"
      ]
     },
     "metadata": {
      "image/png": {
       "height": 16,
       "width": 16
      }
     },
     "output_type": "display_data"
    },
    {
     "data": {
      "image/png": "[encoded data removed]",
      "text/plain": [
       "Console does not support images"
      ]
     },
     "metadata": {
      "image/png": {
       "height": 32,
       "width": 32
      }
     },
     "output_type": "display_data"
    },
    {
     "data": {
      "image/png": "[encoded data removed]",
      "text/plain": [
       "Console does not support images"
      ]
     },
     "metadata": {
      "image/png": {
       "height": 16,
       "width": 16
      }
     },
     "output_type": "display_data"
    },
    {
     "data": {
      "image/png": "[encoded data removed]",
      "text/plain": [
       "Console does not support images"
      ]
     },
     "metadata": {
      "image/png": {
       "height": 32,
       "width": 32
      }
     },
     "output_type": "display_data"
    },
    {
     "data": {
      "image/png": "[encoded data removed]",
      "text/plain": [
       "Console does not support images"
      ]
     },
     "metadata": {
      "image/png": {
       "height": 16,
       "width": 16
      }
     },
     "output_type": "display_data"
    },
    {
     "data": {
      "image/png": "[encoded data removed]",
      "text/plain": [
       "Console does not support images"
      ]
     },
     "metadata": {
      "image/png": {
       "height": 32,
       "width": 32
      }
     },
     "output_type": "display_data"
    },
    {
     "data": {
      "image/png": "[encoded data removed]",
      "text/plain": [
       "Console does not support images"
      ]
     },
     "metadata": {
      "image/png": {
       "height": 16,
       "width": 16
      }
     },
     "output_type": "display_data"
    },
    {
     "data": {
      "image/png": "[encoded data removed]",
      "text/plain": [
       "Console does not support images"
      ]
     },
     "metadata": {
      "image/png": {
       "height": 32,
       "width": 32
      }
     },
     "output_type": "display_data"
    }
   ],
   "source": [
    "-- generate smaller validation set with previous and subsequent frames\n",
    "valinputs = torch.FloatTensor(opt.valSize, opt.num_frames * opt.inchan, 16, 16)\n",
    "-- valinputs = torch.FloatTensor(opt.valSize, opt.num_frames, opt.inchan, 16, 16)\n",
    "valtruths = torch.FloatTensor(opt.valSize, opt.inchan, 32, 32)\n",
    "\n",
    "for vi = 1, opt.valSize do\n",
    "    local rand_id = torch.random(2, valimgs:size(1) - 1)\n",
    "--     while not (valvidnames[rand_id]:split(1)[1] == valvidnames[rand_id - 1]:split(1)[1] and valvidnames[rand_id]:split(1)[1] == valvidnames[rand_id + 1]:split(1)[1]) do\n",
    "    while not (valvidnames[rand_id] == valvidnames[rand_id - 1] and valvidnames[rand_id] == valvidnames[rand_id + 1]) do\n",
    "        rand_id = torch.random(2, valimgs:size(1) - 1)\n",
    "    end\n",
    "    valinputs[vi] = torch.cat(valimgs[rand_id - 1], valimgs[rand_id], 1):cat(valimgs[rand_id + 1], 1)\n",
    "--     valinputs[{vi, 1, {}, {}, {}}] = valimgs[rand_id - 1]\n",
    "--     valinputs[{vi, 2, {}, {}, {}}] = valimgs[rand_id]\n",
    "--     valinputs[{vi, 3, {}, {}, {}}] = valimgs[rand_id + 1]\n",
    "    valtruths[vi] = vallabels[rand_id]\n",
    "end\n",
    "\n",
    "-- testing validation on actual training images (bad in practice, just testing)\n",
    "-- for vi = 1, opt.valSize do\n",
    "--     local rand_id = torch.random(2, input_imgs:size(1) - 1)\n",
    "--     while not (invidnames[rand_id]:split(1)[1] == invidnames[rand_id - 1]:split(1)[1] and invidnames[rand_id]:split(1)[1] == invidnames[rand_id + 1]:split(1)[1]) do\n",
    "--         rand_id = torch.random(2, input_imgs:size(1) - 1)\n",
    "--     end\n",
    "--     valinputs[vi] = torch.cat(input_imgs[rand_id - 1], input_imgs[rand_id], 1):cat(input_imgs[rand_id + 1], 1)\n",
    "--     valtruths[vi] = label_imgs[rand_id]\n",
    "-- end\n",
    "if not opt.gpu then\n",
    "    for vi = 1, 4 do\n",
    "        itorch.image(valinputs[vi])\n",
    "        itorch.image(valtruths[vi])\n",
    "    end\n",
    "end\n",
    "\n",
    "\n",
    "-- test construct batch\n",
    "inputs = torch.FloatTensor(opt.batchsize, opt.inchan * opt.num_frames, 16, 16)\n",
    "-- inputs = torch.FloatTensor(opt.batchsize, opt.num_frames, opt.inchan, 16, 16)\n",
    "labels = torch.FloatTensor(opt.batchsize, opt.outchan, 32, 32)\n",
    "\n",
    "for bi = 1, opt.batchsize do\n",
    "    local rand_id = torch.random(2, input_imgs:size(1) - 1)\n",
    "    while not(invidnames[rand_id] == invidnames[rand_id - 1] and invidnames[rand_id] == invidnames[rand_id + 1]) do\n",
    "--     while not(invidnames[rand_id]:split(1)[1] == invidnames[rand_id - 1]:split(1)[1] and invidnames[rand_id]:split(1)[1] == invidnames[rand_id + 1]:split(1)[1]) do\n",
    "--         print(invidnames[rand_id - 1])\n",
    "--         print(invidnames[rand_id])\n",
    "--         print(invidnames[rand_id + 1])\n",
    "        rand_id = torch.random(2, input_imgs:size(1) - 1)\n",
    "    end  \n",
    "    inputs[bi] = torch.cat(input_imgs[rand_id - 1], input_imgs[rand_id], 1):cat(input_imgs[rand_id + 1], 1)\n",
    "--     inputs[{bi, 1, {}, {}, {}}] = input_imgs[rand_id - 1]\n",
    "--     inputs[{bi, 2, {}, {}, {}}] = input_imgs[rand_id]\n",
    "--     inputs[{bi, 3, {}, {}, {}}] = input_imgs[rand_id + 1]\n",
    "    labels[bi] = label_imgs[rand_id]\n",
    "end\n",
    "if not opt.gpu then\n",
    "    for bi = 1, 4 do\n",
    "        itorch.image(inputs[{bi, {4,6}, {}, {}}])\n",
    "--         itorch.image(inputs[bi])\n",
    "        itorch.image(labels[bi])\n",
    "    end\n",
    "end\n",
    "\n",
    "if opt.gpu then\n",
    "    input_imgs = input_imgs:cuda()\n",
    "    label_imgs = label_imgs:cuda()\n",
    "    valimgs = valimgs:cuda()\n",
    "    vallabels = vallabels:cuda()\n",
    "    valinputs = valinputs:cuda()\n",
    "    valtruths = valtruths:cuda()\n",
    "    gen = gen:cuda()\n",
    "end"
   ]
  },
  {
   "cell_type": "code",
   "execution_count": null,
   "metadata": {
    "collapsed": false,
    "scrolled": false
   },
   "outputs": [],
   "source": [
    "require 'optim'\n",
    "\n",
    "criterion = nn.AbsCriterion()\n",
    "if opt.gpu then\n",
    "    criterion:cuda()\n",
    "end\n",
    "local optimState = {learningRate = 0.0001}\n",
    "\n",
    "epoch_tm = torch.Timer()\n",
    "total_tm = torch.Timer()\n",
    "for epoch = 1, opt.num_epoch do\n",
    "    \n",
    "    -- construct batch\n",
    "    inputs = torch.FloatTensor(opt.batchsize, opt.inchan * opt.num_frames, 16, 16)\n",
    "--     inputs = torch.FloatTensor(opt.batchsize, opt.num_frames, opt.inchan, 16, 16)\n",
    "    labels = torch.FloatTensor(opt.batchsize, opt.outchan, 32, 32)\n",
    "    if opt.gpu then\n",
    "        inputs = inputs:cuda()\n",
    "        labels = labels:cuda()\n",
    "    end\n",
    "\n",
    "    for bi = 1, opt.batchsize do\n",
    "        local rand_id = torch.random(2, input_imgs:size(1) - 1)\n",
    "        while not(invidnames[rand_id] == invidnames[rand_id - 1] and invidnames[rand_id] == invidnames[rand_id + 1]) do\n",
    "--         while not(invidnames[rand_id]:split(1)[1] == invidnames[rand_id - 1]:split(1)[1] and invidnames[rand_id]:split(1)[1] == invidnames[rand_id + 1]:split(1)[1]) do\n",
    "            rand_id = torch.random(2, input_imgs:size(1) - 1)\n",
    "        end  \n",
    "        inputs[bi] = torch.cat(input_imgs[rand_id - 1], input_imgs[rand_id], 1):cat(input_imgs[rand_id + 1], 1)\n",
    "--         inputs[{bi, 1, {}, {}, {}}] = input_imgs[rand_id - 1]\n",
    "--         inputs[{bi, 2, {}, {}, {}}] = input_imgs[rand_id]\n",
    "--         inputs[{bi, 3, {}, {}, {}}] = input_imgs[rand_id + 1]\n",
    "        labels[bi] = label_imgs[rand_id]\n",
    "    end\n",
    "    \n",
    "    params, gradParams = gen:getParameters()\n",
    "    \n",
    "    -- evaluation, forwards/backward pass\n",
    "    fGx = function(params)\n",
    "        gradParams:zero()\n",
    "        outputs = gen:forward(inputs)\n",
    "\n",
    "        errG = criterion:forward(outputs, labels)\n",
    "        df_do = criterion:backward(outputs, labels)\n",
    "--         df_dg = disc:updateGradInput(inputs, df_do) -- when discriminator is implemented\n",
    "        gen:backward(inputs, df_do)\n",
    "        return errG, gradParams\n",
    "    end\n",
    "    \n",
    "    -- train\n",
    "    optim.adam(fGx, params, optimState)\n",
    "    \n",
    "    -- validate\n",
    "    if epoch % 200 == 0 then\n",
    "        outputs = gen:forward(valinputs)\n",
    "        if not opt.gpu then\n",
    "            for vi = 1, 4 do\n",
    "--                 itorch.image(valinputs[{vi, 2, {}, {}}])\n",
    "                itorch.image(valinputs[vi])\n",
    "                itorch.image(outputs[vi])\n",
    "--                 itorch.image(image.scale(valinputs[{vi, 2, {}, {}}], 64, 64, 'simple'))\n",
    "                itorch.image(image.scale(valinputs[vi], 64, 64, 'simple'))\n",
    "                itorch.image(image.scale(outputs[vi], 64, 64, 'simple'))\n",
    "            end\n",
    "        end\n",
    "        valerr = criterion:forward(outputs, valtruths)\n",
    "        print(('\\nvalidation error at epoch = %d is %.4f \\t Time Taken: %.3f'):format(epoch, valerr, epoch_tm:time().real))\n",
    "        \n",
    "        epoch_tm:reset()\n",
    "    end\n",
    "    gen:clearState()\n",
    "end\n",
    "print(('\\n total time taken: %.3f'):format(total_tm:time().real))\n",
    "gen:float()\n",
    "torch.save('srez_model_local.t7', gen)"
   ]
  },
  {
   "cell_type": "code",
   "execution_count": null,
   "metadata": {
    "collapsed": true
   },
   "outputs": [],
   "source": []
  }
 ],
 "metadata": {
  "anaconda-cloud": {},
  "kernelspec": {
   "display_name": "iTorch",
   "language": "lua",
   "name": "itorch"
  },
  "language_info": {
   "name": "lua",
   "version": "5.1"
  }
 },
 "nbformat": 4,
 "nbformat_minor": 1
}
