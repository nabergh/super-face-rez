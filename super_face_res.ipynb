{
 "cells": [
  {
   "cell_type": "code",
   "execution_count": 1,
   "metadata": {
    "collapsed": true
   },
   "outputs": [],
   "source": [
    "opt = {\n",
    "    outchan = 3,\n",
    "    inchan = 3,\n",
    "    lambda = 0.7,\n",
    "    num_frames = 3,\n",
    "    num_epoch = 1000,\n",
    "    batchsize = 128,\n",
    "    valSize = 32,\n",
    "    gpu = false\n",
    "}"
   ]
  },
  {
   "cell_type": "code",
   "execution_count": 2,
   "metadata": {
    "collapsed": false
   },
   "outputs": [],
   "source": [
    "function string:split( inSplitPattern, outResults )\n",
    "  if not outResults then\n",
    "    outResults = { }\n",
    "  end\n",
    "  local theStart = 1\n",
    "  local theSplitStart, theSplitEnd = string.find( self, inSplitPattern, \n",
    "theStart )\n",
    "  while theSplitStart do\n",
    "    table.insert( outResults, string.sub( self, theStart, theSplitStart-1 ) )\n",
    "    theStart = theSplitEnd + 1\n",
    "    theSplitStart, theSplitEnd = string.find( self, inSplitPattern, theStart )\n",
    "  end\n",
    "  table.insert( outResults, string.sub( self, theStart ) )\n",
    "  return outResults\n",
    "end"
   ]
  },
  {
   "cell_type": "code",
   "execution_count": 3,
   "metadata": {
    "collapsed": false
   },
   "outputs": [
    {
     "data": {
      "text/plain": [
       "Images loaded\t\n"
      ]
     },
     "execution_count": 3,
     "metadata": {},
     "output_type": "execute_result"
    }
   ],
   "source": [
    "image = require 'image'\n",
    "torch.setdefaulttensortype('torch.FloatTensor')\n",
    "\n",
    "if opt.gpu then\n",
    "    require 'cutorch'\n",
    "    require 'cunn'\n",
    "else\n",
    "    inputdir = '/home/nicholas/Documents/small_faces/'\n",
    "    truthdir = '/home/nicholas/Documents/big_faces/'\n",
    "    inputvaldir = '/home/nicholas/Documents/small_val/'\n",
    "    truthvaldir = '/home/nicholas/Documents/big_val/'\n",
    "end\n",
    "\n",
    "invidnames = {}\n",
    "input_imgs = torch.FloatTensor()\n",
    "label_imgs = torch.FloatTensor()\n",
    "valimgs = torch.FloatTensor()\n",
    "vallabels = torch.FloatTensor()\n",
    "\n",
    "for file in paths.files('./') do\n",
    "    if file:find('invidnames.t7' .. '$') then\n",
    "        invidnames = torch.load('invidnames.t7')\n",
    "    end\n",
    "    if file:find('input_imgs.t7' .. '$') then\n",
    "        input_imgs = torch.load('input_imgs.t7')\n",
    "    end\n",
    "    if file:find('label_imgs.t7' .. '$') then\n",
    "        label_imgs = torch.load('label_imgs.t7')\n",
    "    end\n",
    "    if file:find('valvidnames.t7' .. '$') then\n",
    "        valvidnames = torch.load('valvidnames.t7')\n",
    "    end\n",
    "    if file:find('valimgs.t7' .. '$') then\n",
    "        valimgs = torch.load('valimgs.t7')\n",
    "    end\n",
    "    if file:find('vallabels.t7' .. '$') then\n",
    "        vallabels = torch.load('vallabels.t7')\n",
    "    end\n",
    "end\n",
    "\n",
    "if input_imgs:nDimension() == 0 then\n",
    "    print('Loading all images from files')\n",
    "    inputfiles = {}\n",
    "    labelfiles = {}\n",
    "    inputvalfiles = {}\n",
    "    truthvalfiles = {}\n",
    "    \n",
    "    numTraining = 0\n",
    "    numVal = 0\n",
    "    \n",
    "    for file in paths.files(inputdir) do\n",
    "       if file:find('png' .. '$') then\n",
    "        table.insert(inputfiles, paths.concat(inputdir,file))\n",
    "        numTraining = numTraining + 1\n",
    "       end\n",
    "    end\n",
    "    for file in paths.files(truthdir) do\n",
    "       if file:find('png' .. '$') then\n",
    "        table.insert(labelfiles, paths.concat(truthdir,file))\n",
    "       end\n",
    "    end\n",
    "    for file in paths.files(inputvaldir) do\n",
    "       if file:find('png' .. '$') then\n",
    "        table.insert(inputvalfiles, paths.concat(inputvaldir,file))\n",
    "        numVal = numVal + 1\n",
    "       end\n",
    "    end\n",
    "    for file in paths.files(truthvaldir) do\n",
    "       if file:find('png' .. '$') then\n",
    "        table.insert(truthvalfiles, paths.concat(truthvaldir,file))\n",
    "       end\n",
    "    end\n",
    "\n",
    "\n",
    "    -- Check files\n",
    "    if #inputfiles == 0 or #labelfiles == 0 then\n",
    "       error('given directory doesnt contain any files')\n",
    "    end\n",
    "    table.sort(inputfiles, function (a,b) return a < b end)\n",
    "    table.sort(labelfiles, function (a,b) return a < b end)\n",
    "    table.sort(inputvalfiles, function (a,b) return a < b end)\n",
    "    table.sort(truthvalfiles, function (a,b) return a < b end)\n",
    "\n",
    "    invidnames = {}\n",
    "    input_imgs = torch.FloatTensor(numTraining, opt.inchan, 16, 16)\n",
    "    label_imgs = torch.FloatTensor(numTraining, opt.outchan, 32, 32)\n",
    "\n",
    "    for i,file in ipairs(inputfiles) do \n",
    "       input_imgs[i] = image.load(file)\n",
    "       table.insert(invidnames, file:split('%.')[1])\n",
    "    end\n",
    "\n",
    "    for i,file in ipairs(labelfiles) do \n",
    "       label_imgs[i] = image.load(file)\n",
    "    end\n",
    "\n",
    "    -- construct validation set\n",
    "    valvidnames = {}\n",
    "    valimgs = torch.FloatTensor(numVal, opt.inchan, 16, 16)\n",
    "    vallabels = torch.FloatTensor(numVal, opt.outchan, 32, 32)\n",
    "\n",
    "    for i,file in ipairs(inputvalfiles) do \n",
    "       valimgs[i] = image.load(file)\n",
    "       table.insert(valvidnames, file:split('%.')[1])\n",
    "    end\n",
    "    for i,file in ipairs(truthvalfiles) do \n",
    "       vallabels[i] = image.load(file)\n",
    "    end\n",
    "\n",
    "    torch.save('invidnames.t7', invidnames)\n",
    "    torch.save('input_imgs.t7', input_imgs)\n",
    "    torch.save('label_imgs.t7', label_imgs)\n",
    "    torch.save('valvidnames.t7', valvidnames)\n",
    "    torch.save('valimgs.t7', valimgs)\n",
    "    torch.save('vallabels.t7', vallabels)\n",
    "end\n",
    "\n",
    "print('Images loaded')"
   ]
  },
  {
   "cell_type": "code",
   "execution_count": 4,
   "metadata": {
    "collapsed": false,
    "scrolled": true
   },
   "outputs": [],
   "source": [
    "-- if not opt.gpu then\n",
    "--     for i = 1,5 do\n",
    "--        itorch.image(input_imgs[i])\n",
    "--     end\n",
    "--     for i = 1,5 do\n",
    "--        itorch.image(label_imgs[i])\n",
    "--     end\n",
    "--     for i = 1,5 do\n",
    "--        itorch.image(valimgs[i])\n",
    "--     end\n",
    "--     for i = 1,5 do\n",
    "--        itorch.image(vallabels[i])\n",
    "--     end\n",
    "-- end\n",
    "-- for i = 1,10 do\n",
    "--    image.save(('validation/val_img_%d_input.png'):format(i), valimgs[i])\n",
    "--    image.save(('validation/val_img_%d_label.png'):format(i), vallabels[i])\n",
    "-- end"
   ]
  },
  {
   "cell_type": "code",
   "execution_count": 4,
   "metadata": {
    "collapsed": false
   },
   "outputs": [],
   "source": [
    "require 'nn'\n",
    "\n",
    "-- input: inchan x 16 x 16\n",
    "gen = nn.Sequential()\n",
    "\n",
    "gen:add(nn.SpatialFullConvolution(opt.inchan * opt.num_frames, opt.outchan * 12, 3, 3))\n",
    "gen:add(nn.ReLU(true))\n",
    "-- gen:add(nn.SpatialBatchNormalization(opt.outchan * 2)):add(nn.ReLU(true))\n",
    "-- -- size: opt.outchan * 12 x 18 x 18 \n",
    "\n",
    "gen:add(nn.SpatialFullConvolution(opt.outchan * 12, opt.outchan * 8, 4, 4))\n",
    "gen:add(nn.ReLU(true))\n",
    "-- gen:add(nn.SpatialBatchNormalization(opt.outchan)):add(nn.ReLU(true))\n",
    "-- size: opt.outchan * 8 x 21 x 21 \n",
    "\n",
    "gen:add(nn.SpatialFullConvolution(opt.outchan * 8, opt.outchan * 4, 6, 6))\n",
    "gen:add(nn.ReLU(true))\n",
    "-- size: opt.outchan * 4 x 26 x 26 \n",
    "\n",
    "gen:add(nn.SpatialFullConvolution(opt.outchan * 4, opt.outchan, 7, 7))\n",
    "gen:add(nn.ReLU(true))  \n",
    "-- size: opt.outchan x 32 x 32\n",
    "\n",
    "-- -- upsampling and then convolutional version, larger and more memory intensive\n",
    "-- gen:add(nn.SpatialUpSamplingNearest(2))\n",
    "-- gen:add(nn.SpatialConvolution(opt.inchan * opt.num_frames, opt.outchan * 12, 6, 6, 2, 2, 4, 4))\n",
    "-- gen:add(nn.ReLU(true))\n",
    "-- -- gen:add(nn.SpatialBatchNormalization(opt.outchan * 2)):add(nn.ReLU(true))\n",
    "-- -- -- size: opt.outchan * 12 x 18 x 18 \n",
    "\n",
    "-- gen:add(nn.SpatialUpSamplingNearest(2))\n",
    "-- gen:add(nn.SpatialConvolution(opt.outchan * 12, opt.outchan * 8, 8, 8, 2, 2, 6, 6))\n",
    "-- gen:add(nn.ReLU(true))\n",
    "-- -- gen:add(nn.SpatialBatchNormalization(opt.outchan)):add(nn.ReLU(true))\n",
    "-- -- size: opt.outchan * 8 x 21 x 21 \n",
    "\n",
    "-- gen:add(nn.SpatialUpSamplingNearest(2))\n",
    "-- gen:add(nn.SpatialConvolution(opt.outchan * 8, opt.outchan * 4, 12, 12, 2, 2, 10, 10))\n",
    "-- gen:add(nn.ReLU(true))\n",
    "-- -- size: opt.outchan * 4 x 26 x 26 \n",
    "\n",
    "-- gen:add(nn.SpatialUpSamplingNearest(2))\n",
    "-- gen:add(nn.SpatialConvolution(opt.outchan * 4, opt.outchan, 14, 14, 2, 2, 12, 12))\n",
    "-- gen:add(nn.ReLU(true))  \n",
    "-- -- size: opt.outchan x 32 x 32\n",
    "\n",
    "\n",
    "disc = nn.Sequential()\n",
    "\n",
    "disc:add(nn.SpatialConvolution(opt.outchan, opt.outchan * 2, 4, 4, 2, 2, 1, 1))\n",
    "disc:add(nn.SpatialBatchNormalization(opt.outchan * 2)):add(nn.LeakyReLU(0.1, true))\n",
    "-- size: opt.outchan * 2 x 16 x 16\n",
    "\n",
    "disc:add(nn.SpatialConvolution(opt.outchan * 2, opt.outchan * 4, 4, 4, 2, 2, 1, 1))\n",
    "disc:add(nn.SpatialBatchNormalization(opt.outchan * 4)):add(nn.LeakyReLU(0.1, true))\n",
    "-- size: opt.outchan * 4 x 8 x 8\n",
    "\n",
    "disc:add(nn.SpatialConvolution(opt.outchan * 4, opt.outchan * 8, 4, 4, 2, 2, 1, 1))\n",
    "disc:add(nn.SpatialBatchNormalization(opt.outchan * 8)):add(nn.LeakyReLU(0.1, true))\n",
    "-- size: opt.outchan * 8 x 4 x 4\n",
    "\n",
    "disc:add(nn.SpatialConvolution(opt.outchan * 8, 1, 4, 4))\n",
    "disc:add(nn.Sigmoid())\n",
    "-- size: 1 x 1 x 1\n",
    "\n",
    "disc:add(nn.View(1):setNumInputDims(3))\n",
    "disc:add(nn.Squeeze())\n",
    "-- size: 1"
   ]
  },
  {
   "cell_type": "code",
   "execution_count": 5,
   "metadata": {
    "collapsed": false
   },
   "outputs": [
    {
     "data": {
      "image/png": "[encoded data removed]",
      "text/plain": [
       "Console does not support images"
      ]
     },
     "metadata": {
      "image/png": {
       "height": 36,
       "width": 108
      }
     },
     "output_type": "display_data"
    },
    {
     "data": {
      "image/png": "[encoded data removed]",
      "text/plain": [
       "Console does not support images"
      ]
     },
     "metadata": {
      "image/png": {
       "height": 32,
       "width": 32
      }
     },
     "output_type": "display_data"
    },
    {
     "data": {
      "image/png": "[encoded data removed]",
      "text/plain": [
       "Console does not support images"
      ]
     },
     "metadata": {
      "image/png": {
       "height": 36,
       "width": 108
      }
     },
     "output_type": "display_data"
    },
    {
     "data": {
      "image/png": "[encoded data removed]",
      "text/plain": [
       "Console does not support images"
      ]
     },
     "metadata": {
      "image/png": {
       "height": 32,
       "width": 32
      }
     },
     "output_type": "display_data"
    },
    {
     "data": {
      "image/png": "[encoded data removed]",
      "text/plain": [
       "Console does not support images"
      ]
     },
     "metadata": {
      "image/png": {
       "height": 36,
       "width": 108
      }
     },
     "output_type": "display_data"
    },
    {
     "data": {
      "image/png": "[encoded data removed]",
      "text/plain": [
       "Console does not support images"
      ]
     },
     "metadata": {
      "image/png": {
       "height": 32,
       "width": 32
      }
     },
     "output_type": "display_data"
    },
    {
     "data": {
      "image/png": "[encoded data removed]",
      "text/plain": [
       "Console does not support images"
      ]
     },
     "metadata": {
      "image/png": {
       "height": 36,
       "width": 108
      }
     },
     "output_type": "display_data"
    },
    {
     "data": {
      "image/png": "[encoded data removed]",
      "text/plain": [
       "Console does not support images"
      ]
     },
     "metadata": {
      "image/png": {
       "height": 32,
       "width": 32
      }
     },
     "output_type": "display_data"
    },
    {
     "data": {
      "image/png": "[encoded data removed]",
      "text/plain": [
       "Console does not support images"
      ]
     },
     "metadata": {
      "image/png": {
       "height": 16,
       "width": 16
      }
     },
     "output_type": "display_data"
    },
    {
     "data": {
      "image/png": "[encoded data removed]",
      "text/plain": [
       "Console does not support images"
      ]
     },
     "metadata": {
      "image/png": {
       "height": 32,
       "width": 32
      }
     },
     "output_type": "display_data"
    },
    {
     "data": {
      "image/png": "[encoded data removed]",
      "text/plain": [
       "Console does not support images"
      ]
     },
     "metadata": {
      "image/png": {
       "height": 16,
       "width": 16
      }
     },
     "output_type": "display_data"
    },
    {
     "data": {
      "image/png": "[encoded data removed]",
      "text/plain": [
       "Console does not support images"
      ]
     },
     "metadata": {
      "image/png": {
       "height": 32,
       "width": 32
      }
     },
     "output_type": "display_data"
    },
    {
     "data": {
      "image/png": "[encoded data removed]",
      "text/plain": [
       "Console does not support images"
      ]
     },
     "metadata": {
      "image/png": {
       "height": 16,
       "width": 16
      }
     },
     "output_type": "display_data"
    },
    {
     "data": {
      "image/png": "[encoded data removed]",
      "text/plain": [
       "Console does not support images"
      ]
     },
     "metadata": {
      "image/png": {
       "height": 32,
       "width": 32
      }
     },
     "output_type": "display_data"
    },
    {
     "data": {
      "image/png": "[encoded data removed]",
      "text/plain": [
       "Console does not support images"
      ]
     },
     "metadata": {
      "image/png": {
       "height": 16,
       "width": 16
      }
     },
     "output_type": "display_data"
    },
    {
     "data": {
      "image/png": "[encoded data removed]",
      "text/plain": [
       "Console does not support images"
      ]
     },
     "metadata": {
      "image/png": {
       "height": 32,
       "width": 32
      }
     },
     "output_type": "display_data"
    }
   ],
   "source": [
    "-- generate smaller validation set with previous and subsequent frames\n",
    "valinputs = torch.FloatTensor(opt.valSize, opt.num_frames * opt.inchan, 16, 16)\n",
    "valtruths = torch.FloatTensor(opt.valSize, opt.inchan, 32, 32)\n",
    "\n",
    "for vi = 1, opt.valSize do\n",
    "    local rand_id = torch.random(2, valimgs:size(1) - 1)\n",
    "    while not (valvidnames[rand_id] == valvidnames[rand_id - 1] and valvidnames[rand_id] == valvidnames[rand_id + 1]) do\n",
    "        rand_id = torch.random(2, valimgs:size(1) - 1)\n",
    "    end\n",
    "    valinputs[vi] = torch.cat(valimgs[rand_id - 1], valimgs[rand_id], 1):cat(valimgs[rand_id + 1], 1)\n",
    "    valtruths[vi] = vallabels[rand_id]\n",
    "end\n",
    "\n",
    "if not opt.gpu then\n",
    "    for vi = 1, 4 do\n",
    "        itorch.image(valinputs[vi])\n",
    "        itorch.image(valtruths[vi])\n",
    "    end\n",
    "end\n",
    "\n",
    "\n",
    "-- test construct batch\n",
    "inputs = torch.FloatTensor(opt.batchsize, opt.inchan * opt.num_frames, 16, 16)\n",
    "labels = torch.FloatTensor(opt.batchsize, opt.outchan, 32, 32)\n",
    "\n",
    "for bi = 1, opt.batchsize do\n",
    "    local rand_id = torch.random(2, input_imgs:size(1) - 1)\n",
    "    while not(invidnames[rand_id] == invidnames[rand_id - 1] and invidnames[rand_id] == invidnames[rand_id + 1]) do\n",
    "        rand_id = torch.random(2, input_imgs:size(1) - 1)\n",
    "    end  \n",
    "    inputs[bi] = torch.cat(input_imgs[rand_id - 1], input_imgs[rand_id], 1):cat(input_imgs[rand_id + 1], 1)\n",
    "    labels[bi] = label_imgs[rand_id]\n",
    "end\n",
    "if not opt.gpu then\n",
    "    for bi = 1, 4 do\n",
    "        itorch.image(inputs[{bi, {4,6}, {}, {}}])\n",
    "--         itorch.image(inputs[bi])\n",
    "        itorch.image(labels[bi])\n",
    "    end\n",
    "end\n",
    "\n",
    "gen = torch.load('srez_model_video_16_to_32.t7')\n",
    "if opt.gpu then\n",
    "    input_imgs = input_imgs:cuda()\n",
    "    label_imgs = label_imgs:cuda()\n",
    "    valimgs = valimgs:cuda()\n",
    "    vallabels = vallabels:cuda()\n",
    "    valinputs = valinputs:cuda()\n",
    "    valtruths = valtruths:cuda()\n",
    "    gen = gen:cuda()\n",
    "    disc = disc:cuda()\n",
    "end"
   ]
  },
  {
   "cell_type": "code",
   "execution_count": null,
   "metadata": {
    "collapsed": false
   },
   "outputs": [],
   "source": [
    "require 'optim'\n",
    "\n",
    "criterionD = nn.BCECriterion()\n",
    "if opt.gpu then\n",
    "    criterionD:cuda()\n",
    "end\n",
    "local optimStateD = {learningRate = 0.001}\n",
    "\n",
    "real_label = 1\n",
    "fake_label = 0\n",
    "\n",
    "inputs = torch.FloatTensor(opt.batchsize, opt.inchan * opt.num_frames, 16, 16)\n",
    "labels = torch.FloatTensor(opt.batchsize, opt.outchan, 32, 32)\n",
    "disclabels = torch.FloatTensor(opt.batchsize)\n",
    "valdisclabels = torch.FloatTensor(opt.valSize)\n",
    "if opt.gpu then\n",
    "    inputs = inputs:cuda()\n",
    "    labels = labels:cuda()\n",
    "    disclabels = disclabels:cuda()\n",
    "    valdisclabels = valdisclabels:cuda()\n",
    "end\n",
    "outputs = nil\n",
    "\n",
    "epoch_tm = torch.Timer()\n",
    "total_tm = torch.Timer()\n",
    "\n",
    "-- training just the discriminator on pre-trained L1 loss generator\n",
    "for epoch = 1, opt.num_epoch do\n",
    "    \n",
    "    -- construct batch\n",
    "    for bi = 1, opt.batchsize do\n",
    "        local rand_id = torch.random(2, input_imgs:size(1) - 1)\n",
    "        while not(invidnames[rand_id] == invidnames[rand_id - 1] and invidnames[rand_id] == invidnames[rand_id + 1]) do\n",
    "            rand_id = torch.random(2, input_imgs:size(1) - 1)\n",
    "        end  \n",
    "        inputs[bi] = torch.cat(input_imgs[rand_id - 1], input_imgs[rand_id], 1):cat(input_imgs[rand_id + 1], 1)\n",
    "        labels[bi] = label_imgs[rand_id]\n",
    "    end\n",
    "    \n",
    "    paramsD, gradParamsD = disc:getParameters()\n",
    "    \n",
    "    -- evaluation, forwards/backward pass for discriminator\n",
    "    fDx = function(paramsD)\n",
    "        gradParamsD:zero()\n",
    "        \n",
    "        disclabels:fill(real_label)\n",
    "        local output = disc:forward(labels)\n",
    "        local errD_real = criterionD:forward(output, disclabels)\n",
    "        local df_do = criterionD:backward(output, disclabels)\n",
    "        disc:backward(labels, df_do)\n",
    "        \n",
    "        disclabels:fill(fake_label)\n",
    "        outputs = gen:forward(inputs)\n",
    "        local output = disc:forward(outputs)\n",
    "        local errD_fake = criterionD:forward(output, disclabels)\n",
    "        local df_do = criterionD:backward(output, disclabels)\n",
    "        disc:backward(outputs, df_do)\n",
    "\n",
    "        errD = errD_real + errD_fake\n",
    "        \n",
    "        return errD, gradParamsD\n",
    "    end\n",
    "    \n",
    "    -- train\n",
    "    optim.adam(fDx, paramsD, optimStateD)\n",
    "    \n",
    "    -- validate\n",
    "    if epoch % 200 == 0 then\n",
    "        outputs = gen:forward(valinputs)\n",
    "        if not opt.gpu then\n",
    "            for vi = 1, 4 do\n",
    "--                 itorch.image(valinputs[vi])\n",
    "--                 itorch.image(outputs[vi])\n",
    "                itorch.image(image.scale(valinputs[{vi, {4,6}, {}, {}}], 64, 64, 'simple'))\n",
    "                itorch.image(image.scale(outputs[vi], 64, 64, 'simple'))\n",
    "            end\n",
    "        end\n",
    "        valdisclabels:fill(fake_label)\n",
    "        valerr = criterionD:forward(disc:forward(outputs), valdisclabels)\n",
    "        print(('\\nvalidation error at epoch = %d is %.4f \\t Time Taken: %.3f'):format(epoch, valerr, epoch_tm:time().real))\n",
    "        \n",
    "        epoch_tm:reset()\n",
    "    end\n",
    "    gen:clearState()\n",
    "end\n",
    "print(('\\n total time taken: %.3f'):format(total_tm:time().real))\n",
    "disc = disc:float()\n",
    "torch.save('srez_model_disc_local.t7', disc)"
   ]
  },
  {
   "cell_type": "code",
   "execution_count": null,
   "metadata": {
    "collapsed": false,
    "scrolled": true
   },
   "outputs": [],
   "source": [
    "require 'optim'\n",
    "\n",
    "criterionG = nn.AbsCriterion()\n",
    "criterionD = nn.BCECriterion()\n",
    "if opt.gpu then\n",
    "    criterionG:cuda()\n",
    "    criterionD:cuda()\n",
    "end\n",
    "local optimStateD = {learningRate = 0.001}\n",
    "local optimStateG = {learningRate = 0.001}\n",
    "\n",
    "real_label = 1\n",
    "fake_label = 0\n",
    "\n",
    "inputs = torch.FloatTensor(opt.batchsize, opt.inchan * opt.num_frames, 16, 16)\n",
    "labels = torch.FloatTensor(opt.batchsize, opt.outchan, 32, 32)\n",
    "disclabels = torch.FloatTensor(opt.batchsize)\n",
    "valdisclabels = torch.FloatTensor(opt.valSize)\n",
    "if opt.gpu then\n",
    "    inputs = inputs:cuda()\n",
    "    labels = labels:cuda()\n",
    "    disclabels = disclabels:cuda()\n",
    "    valdisclabels = valdisclabels:cuda()\n",
    "end\n",
    "outputs = nil\n",
    "\n",
    "epoch_tm = torch.Timer()\n",
    "total_tm = torch.Timer()\n",
    "for epoch = 1, opt.num_epoch do\n",
    "    \n",
    "    -- construct batch\n",
    "    for bi = 1, opt.batchsize do\n",
    "        local rand_id = torch.random(2, input_imgs:size(1) - 1)\n",
    "        while not(invidnames[rand_id] == invidnames[rand_id - 1] and invidnames[rand_id] == invidnames[rand_id + 1]) do\n",
    "            rand_id = torch.random(2, input_imgs:size(1) - 1)\n",
    "        end  \n",
    "        inputs[bi] = torch.cat(input_imgs[rand_id - 1], input_imgs[rand_id], 1):cat(input_imgs[rand_id + 1], 1)\n",
    "        labels[bi] = label_imgs[rand_id]\n",
    "    end\n",
    "    \n",
    "    paramsG, gradParamsG = gen:getParameters()\n",
    "    paramsD, gradParamsD = disc:getParameters()\n",
    "    \n",
    "    -- evaluation, forwards/backward pass for discriminator\n",
    "    fDx = function(paramsD)\n",
    "        gradParamsD:zero()\n",
    "        \n",
    "        disclabels:fill(real_label)\n",
    "        local output = disc:forward(labels)\n",
    "        local errD_real = criterionD:forward(output, disclabels)\n",
    "        local df_do = criterionD:backward(output, disclabels)\n",
    "        disc:backward(labels, df_do)\n",
    "        \n",
    "        disclabels:fill(fake_label)\n",
    "        outputs = gen:forward(inputs)\n",
    "        local output = disc:forward(outputs)\n",
    "        local errD_fake = criterionD:forward(output, disclabels)\n",
    "        local df_do = criterionD:backward(output, disclabels)\n",
    "        disc:backward(outputs, df_do)\n",
    "\n",
    "        errD = errD_real + errD_fake\n",
    "        \n",
    "        return errD, gradParamsD\n",
    "    end\n",
    "    \n",
    "    -- evaluation, forwards/backward pass for generator\n",
    "    fGx = function(paramsG)\n",
    "        gradParamsG:zero()\n",
    "\n",
    "        disclabels:fill(real_label)\n",
    "        \n",
    "        errG = criterionG:forward(outputs, labels) * opt.lambda\n",
    "        errG = errG + criterionD:forward(disclabels, disc.output) * (1 - opt.lambda)\n",
    "        \n",
    "        df_doG = criterionG:backward(outputs, labels)\n",
    "        df_doD = criterionD:backward(disc.output, disclabels)\n",
    "        \n",
    "        df_dg = disc:updateGradInput(outputs, df_doD)\n",
    "        \n",
    "        gen:backward(inputs, df_dg * (1 - opt.lambda) + df_doG * opt.lambda)\n",
    "        return errG, gradParamsG\n",
    "    end\n",
    "    \n",
    "    \n",
    "    -- train\n",
    "    optim.adam(fDx, paramsD, optimStateD)\n",
    "    optim.adam(fGx, paramsG, optimStateG)\n",
    "    \n",
    "    -- validate\n",
    "    if epoch % 200 == 0 then\n",
    "        outputs = gen:forward(valinputs)\n",
    "        if not opt.gpu then\n",
    "            for vi = 1, 4 do\n",
    "--                 itorch.image(valinputs[vi])\n",
    "--                 itorch.image(outputs[vi])\n",
    "                itorch.image(image.scale(valinputs[{vi, {4,6}, {}, {}}], 64, 64, 'simple'))\n",
    "                itorch.image(image.scale(outputs[vi], 64, 64, 'simple'))\n",
    "            end\n",
    "        end\n",
    "        valdisclabels:fill(real_label)\n",
    "        valerr = criterionG:forward(outputs, valtruths) * opt.lambda\n",
    "        valerr = valerr + criterionD:forward(disc:forward(outputs), valdisclabels) * (1 - opt.lambda)\n",
    "        print(('\\nvalidation error at epoch = %d is %.4f \\t Time Taken: %.3f'):format(epoch, valerr, epoch_tm:time().real))\n",
    "        \n",
    "        epoch_tm:reset()\n",
    "    end\n",
    "    gen:clearState()\n",
    "end\n",
    "print(('\\n total time taken: %.3f'):format(total_tm:time().real))\n",
    "gen = gen:float()\n",
    "disc = disc:float()\n",
    "torch.save('srez_model_gen_local.t7', gen)\n",
    "torch.save('srez_model_disc_local.t7', disc)"
   ]
  }
 ],
 "metadata": {
  "anaconda-cloud": {},
  "kernelspec": {
   "display_name": "iTorch",
   "language": "lua",
   "name": "itorch"
  },
  "language_info": {
   "name": "lua",
   "version": "5.1"
  }
 },
 "nbformat": 4,
 "nbformat_minor": 1
}
