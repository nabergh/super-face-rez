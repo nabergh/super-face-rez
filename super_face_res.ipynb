{
 "cells": [
  {
   "cell_type": "code",
   "execution_count": 14,
   "metadata": {
    "collapsed": true
   },
   "outputs": [],
   "source": [
    "opt = {\n",
    "    outchan = 3,\n",
    "    inchan = 3,\n",
    "    num_frames = 3,\n",
    "    num_epoch = 10000,\n",
    "    batchsize = 128,\n",
    "    gpu = false\n",
    "}"
   ]
  },
  {
   "cell_type": "code",
   "execution_count": 15,
   "metadata": {
    "collapsed": false
   },
   "outputs": [],
   "source": [
    "function string:split( inSplitPattern, outResults )\n",
    "  if not outResults then\n",
    "    outResults = { }\n",
    "  end\n",
    "  local theStart = 1\n",
    "  local theSplitStart, theSplitEnd = string.find( self, inSplitPattern, \n",
    "theStart )\n",
    "  while theSplitStart do\n",
    "    table.insert( outResults, string.sub( self, theStart, theSplitStart-1 ) )\n",
    "    theStart = theSplitEnd + 1\n",
    "    theSplitStart, theSplitEnd = string.find( self, inSplitPattern, theStart )\n",
    "  end\n",
    "  table.insert( outResults, string.sub( self, theStart ) )\n",
    "  return outResults\n",
    "end"
   ]
  },
  {
   "cell_type": "code",
   "execution_count": 16,
   "metadata": {
    "collapsed": false
   },
   "outputs": [
    {
     "data": {
      "text/plain": [
       "Loading all images from files\t\n"
      ]
     },
     "execution_count": 16,
     "metadata": {},
     "output_type": "execute_result"
    },
    {
     "data": {
      "text/plain": [
       "Images loaded\t\n"
      ]
     },
     "execution_count": 16,
     "metadata": {},
     "output_type": "execute_result"
    }
   ],
   "source": [
    "image = require 'image'\n",
    "\n",
    "if opt.gpu then\n",
    "    require 'cutorch'\n",
    "    require 'cunn'\n",
    "else\n",
    "    inputdir = '/home/nicholas/Documents/small_faces/'\n",
    "    truthdir = '/home/nicholas/Documents/big_faces/'\n",
    "    inputvaldir = '/home/nicholas/Documents/small_val/'\n",
    "    truthvaldir = '/home/nicholas/Documents/big_val/'\n",
    "end\n",
    "\n",
    "invidnames = {}\n",
    "input_imgs = torch.FloatTensor()\n",
    "label_imgs = torch.FloatTensor()\n",
    "valimgs = torch.FloatTensor()\n",
    "vallabels = torch.FloatTensor()\n",
    "\n",
    "for file in paths.files('./') do\n",
    "    if file:find('invidnames.t7' .. '$') then\n",
    "        invidnames = torch.load('invidnames.t7')\n",
    "    end\n",
    "    if file:find('input_imgs.t7' .. '$') then\n",
    "        input_imgs = torch.load('input_imgs.t7')\n",
    "    end\n",
    "    if file:find('label_imgs.t7' .. '$') then\n",
    "        label_imgs = torch.load('label_imgs.t7')\n",
    "    end\n",
    "    if file:find('valvidnames.t7' .. '$') then\n",
    "        invidnames = torch.load('invidnames.t7')\n",
    "    end\n",
    "    if file:find('valimgs.t7' .. '$') then\n",
    "        valimgs = torch.load('valimgs.t7')\n",
    "    end\n",
    "    if file:find('vallabels.t7' .. '$') then\n",
    "        vallabels = torch.load('vallabels.t7')\n",
    "    end\n",
    "end\n",
    "\n",
    "if input_imgs:nDimension() == 0 then\n",
    "    print('Loading all images from files')\n",
    "    inputfiles = {}\n",
    "    labelfiles = {}\n",
    "    inputvalfiles = {}\n",
    "    truthvalfiles = {}\n",
    "    \n",
    "    numTraining = 0\n",
    "    numVal = 0\n",
    "    \n",
    "    for file in paths.files(inputdir) do\n",
    "       if file:find('png' .. '$') then\n",
    "        table.insert(inputfiles, paths.concat(inputdir,file))\n",
    "        numTraining = numTraining + 1\n",
    "       end\n",
    "    end\n",
    "    for file in paths.files(truthdir) do\n",
    "       if file:find('png' .. '$') then\n",
    "        table.insert(labelfiles, paths.concat(truthdir,file))\n",
    "       end\n",
    "    end\n",
    "    for file in paths.files(inputvaldir) do\n",
    "       if file:find('png' .. '$') then\n",
    "        table.insert(inputvalfiles, paths.concat(inputvaldir,file))\n",
    "        numVal = numVal + 1\n",
    "       end\n",
    "    end\n",
    "    for file in paths.files(truthvaldir) do\n",
    "       if file:find('png' .. '$') then\n",
    "        table.insert(truthvalfiles, paths.concat(truthvaldir,file))\n",
    "       end\n",
    "    end\n",
    "\n",
    "\n",
    "    -- Check files\n",
    "    if #inputfiles == 0 or #labelfiles == 0 then\n",
    "       error('given directory doesnt contain any files')\n",
    "    end\n",
    "    table.sort(inputfiles, function (a,b) return a < b end)\n",
    "    table.sort(labelfiles, function (a,b) return a < b end)\n",
    "    table.sort(inputvalfiles, function (a,b) return a < b end)\n",
    "    table.sort(truthvalfiles, function (a,b) return a < b end)\n",
    "\n",
    "    invidnames = {}\n",
    "    input_imgs = torch.FloatTensor(numTraining, opt.inchan, 16, 16)\n",
    "    label_imgs = torch.FloatTensor(numTraining, opt.outchan, 32, 32)\n",
    "\n",
    "    for i,file in ipairs(inputfiles) do \n",
    "       input_imgs[i] = image.load(file)\n",
    "       table.insert(invidnames, file:split('%.')[1])\n",
    "    end\n",
    "\n",
    "    for i,file in ipairs(labelfiles) do \n",
    "       label_imgs[i] = image.load(file)\n",
    "    end\n",
    "\n",
    "    -- construct validation set\n",
    "    valvidnames = {}\n",
    "    valimgs = torch.FloatTensor(numVal, opt.inchan, 16, 16)\n",
    "    vallabels = torch.FloatTensor(numVal, opt.outchan, 32, 32)\n",
    "\n",
    "    for i,file in ipairs(inputvalfiles) do \n",
    "       valimgs[i] = image.load(file)\n",
    "       table.insert(valvidnames, file:split('%.')[1])\n",
    "    end\n",
    "    for i,file in ipairs(truthvalfiles) do \n",
    "       vallabels[i] = image.load(file)\n",
    "    end\n",
    "\n",
    "    torch.save('invidnames.t7', invidnames)\n",
    "    torch.save('input_imgs.t7', input_imgs)\n",
    "    torch.save('label_imgs.t7', label_imgs)\n",
    "    torch.save('valvidnames.t7', valvidnames)\n",
    "    torch.save('valimgs.t7', valimgs)\n",
    "    torch.save('vallabels.t7', vallabels)\n",
    "end\n",
    "\n",
    "if opt.gpu then\n",
    "    input_imgs = input_imgs:cuda()\n",
    "    label_imgs = label_imgs:cuda()\n",
    "    valimgs = valimgs:cuda()\n",
    "    vallabels = vallabels:cuda()\n",
    "end\n",
    "\n",
    "print('Images loaded')"
   ]
  },
  {
   "cell_type": "code",
   "execution_count": 17,
   "metadata": {
    "collapsed": false,
    "scrolled": true
   },
   "outputs": [
    {
     "data": {
      "image/png": "[encoded data removed]",
      "text/plain": [
       "Console does not support images"
      ]
     },
     "metadata": {
      "image/png": {
       "height": 16,
       "width": 16
      }
     },
     "output_type": "display_data"
    },
    {
     "data": {
      "image/png": "[encoded data removed]",
      "text/plain": [
       "Console does not support images"
      ]
     },
     "metadata": {
      "image/png": {
       "height": 16,
       "width": 16
      }
     },
     "output_type": "display_data"
    },
    {
     "data": {
      "image/png": "[encoded data removed]",
      "text/plain": [
       "Console does not support images"
      ]
     },
     "metadata": {
      "image/png": {
       "height": 16,
       "width": 16
      }
     },
     "output_type": "display_data"
    },
    {
     "data": {
      "image/png": "[encoded data removed]",
      "text/plain": [
       "Console does not support images"
      ]
     },
     "metadata": {
      "image/png": {
       "height": 16,
       "width": 16
      }
     },
     "output_type": "display_data"
    },
    {
     "data": {
      "image/png": "[encoded data removed]",
      "text/plain": [
       "Console does not support images"
      ]
     },
     "metadata": {
      "image/png": {
       "height": 16,
       "width": 16
      }
     },
     "output_type": "display_data"
    },
    {
     "data": {
      "image/png": "[encoded data removed]",
      "text/plain": [
       "Console does not support images"
      ]
     },
     "metadata": {
      "image/png": {
       "height": 32,
       "width": 32
      }
     },
     "output_type": "display_data"
    },
    {
     "data": {
      "image/png": "[encoded data removed]",
      "text/plain": [
       "Console does not support images"
      ]
     },
     "metadata": {
      "image/png": {
       "height": 32,
       "width": 32
      }
     },
     "output_type": "display_data"
    },
    {
     "data": {
      "image/png": "[encoded data removed]",
      "text/plain": [
       "Console does not support images"
      ]
     },
     "metadata": {
      "image/png": {
       "height": 32,
       "width": 32
      }
     },
     "output_type": "display_data"
    },
    {
     "data": {
      "image/png": "[encoded data removed]",
      "text/plain": [
       "Console does not support images"
      ]
     },
     "metadata": {
      "image/png": {
       "height": 32,
       "width": 32
      }
     },
     "output_type": "display_data"
    },
    {
     "data": {
      "image/png": "[encoded data removed]",
      "text/plain": [
       "Console does not support images"
      ]
     },
     "metadata": {
      "image/png": {
       "height": 32,
       "width": 32
      }
     },
     "output_type": "display_data"
    },
    {
     "data": {
      "image/png": "[encoded data removed]",
      "text/plain": [
       "Console does not support images"
      ]
     },
     "metadata": {
      "image/png": {
       "height": 16,
       "width": 16
      }
     },
     "output_type": "display_data"
    },
    {
     "data": {
      "image/png": "[encoded data removed]",
      "text/plain": [
       "Console does not support images"
      ]
     },
     "metadata": {
      "image/png": {
       "height": 16,
       "width": 16
      }
     },
     "output_type": "display_data"
    },
    {
     "data": {
      "image/png": "[encoded data removed]",
      "text/plain": [
       "Console does not support images"
      ]
     },
     "metadata": {
      "image/png": {
       "height": 16,
       "width": 16
      }
     },
     "output_type": "display_data"
    },
    {
     "data": {
      "image/png": "[encoded data removed]",
      "text/plain": [
       "Console does not support images"
      ]
     },
     "metadata": {
      "image/png": {
       "height": 16,
       "width": 16
      }
     },
     "output_type": "display_data"
    },
    {
     "data": {
      "image/png": "[encoded data removed]",
      "text/plain": [
       "Console does not support images"
      ]
     },
     "metadata": {
      "image/png": {
       "height": 16,
       "width": 16
      }
     },
     "output_type": "display_data"
    },
    {
     "data": {
      "image/png": "[encoded data removed]",
      "text/plain": [
       "Console does not support images"
      ]
     },
     "metadata": {
      "image/png": {
       "height": 32,
       "width": 32
      }
     },
     "output_type": "display_data"
    },
    {
     "data": {
      "image/png": "[encoded data removed]",
      "text/plain": [
       "Console does not support images"
      ]
     },
     "metadata": {
      "image/png": {
       "height": 32,
       "width": 32
      }
     },
     "output_type": "display_data"
    },
    {
     "data": {
      "image/png": "[encoded data removed]",
      "text/plain": [
       "Console does not support images"
      ]
     },
     "metadata": {
      "image/png": {
       "height": 32,
       "width": 32
      }
     },
     "output_type": "display_data"
    },
    {
     "data": {
      "image/png": "[encoded data removed]",
      "text/plain": [
       "Console does not support images"
      ]
     },
     "metadata": {
      "image/png": {
       "height": 32,
       "width": 32
      }
     },
     "output_type": "display_data"
    },
    {
     "data": {
      "image/png": "[encoded data removed]",
      "text/plain": [
       "Console does not support images"
      ]
     },
     "metadata": {
      "image/png": {
       "height": 32,
       "width": 32
      }
     },
     "output_type": "display_data"
    }
   ],
   "source": [
    "if not opt.gpu then\n",
    "    for i = 1,5 do\n",
    "       itorch.image(input_imgs[i])\n",
    "    end\n",
    "    for i = 1,5 do\n",
    "       itorch.image(label_imgs[i])\n",
    "    end\n",
    "    for i = 1,5 do\n",
    "       itorch.image(valimgs[i])\n",
    "    end\n",
    "    for i = 1,5 do\n",
    "       itorch.image(vallabels[i])\n",
    "    end\n",
    "end\n",
    "for i = 1,10 do\n",
    "   image.save(('validation/val_img_%d_input.png'):format(i), valimgs[i])\n",
    "   image.save(('validation/val_img_%d_label.png'):format(i), vallabels[i])\n",
    "end"
   ]
  },
  {
   "cell_type": "code",
   "execution_count": 18,
   "metadata": {
    "collapsed": false
   },
   "outputs": [],
   "source": [
    "require 'nn'\n",
    "\n",
    "-- input: inchan x 16 x 16\n",
    "gen = nn.Sequential()\n",
    "-- gen:add(nn.SpatialFullConvolution(opt.inchan, opt.outchan * 4, 9, 9))\n",
    "-- gen:add(nn.SpatialBatchNormalization(opt.outchan * 4)):add(nn.ReLU(true))\n",
    "\n",
    "-- -- size: opt.outchan * 4 x 24 x 24 \n",
    "-- gen:add(nn.SpatialFullConvolution(opt.outchan * 4, opt.outchan, 9, 9))\n",
    "-- gen:add(nn.ReLU(true))  \n",
    "\n",
    "-- -- size: opt.outchan x 32 x 32\n",
    "\n",
    "gen:add(nn.SpatialFullConvolution(opt.inchan * opt.num_frames, opt.outchan * 8, 3, 3))\n",
    "gen:add(nn.SpatialBatchNormalization(opt.outchan * 8)):add(nn.ReLU(true))\n",
    "-- -- size: opt.outchan * 8 x 18 x 18 \n",
    "\n",
    "gen:add(nn.SpatialFullConvolution(opt.outchan * 8, opt.outchan * 4, 7, 7))\n",
    "gen:add(nn.SpatialBatchNormalization(opt.outchan * 4)):add(nn.ReLU(true))\n",
    "-- size: opt.outchan * 4 x 24 x 24 \n",
    "\n",
    "gen:add(nn.SpatialFullConvolution(opt.outchan * 4, opt.outchan, 9, 9))\n",
    "gen:add(nn.ReLU(true))  \n",
    "-- size: opt.outchan x 32 x 32\n",
    "\n",
    "if opt.gpu then\n",
    "    gen:cuda()\n",
    "end"
   ]
  },
  {
   "cell_type": "code",
   "execution_count": 31,
   "metadata": {
    "collapsed": false
   },
   "outputs": [],
   "source": [
    "-- generate validation set\n",
    "valinputs = torch.FloatTensor(19952, opt.inchan * opt.num_frames, 16, 16)\n",
    "valtruths = torch.FloatTensor(19952, opt.inchan, 32, 32)\n",
    "\n",
    "for vi = 1, numVal do\n",
    "    local rand_id = torch.random(2, valimgs:size(1) - 1)\n",
    "    if valvidnames[rand_id]:split(1)[1] == valvidnames[rand_id - 1]:split(1)[1] and valvidnames[rand_id]:split(1)[1] == valvidnames[rand_id + 1]:split(1)[1] then\n",
    "        valinputs[vi] = torch.cat(valimgs[rand_id - 1], valimgs[rand_id], 1):cat(valimgs[rand_id + 1], 1)\n",
    "        valtruths[vi] = vallabels[rand_id]\n",
    "    end\n",
    "end"
   ]
  },
  {
   "cell_type": "code",
   "execution_count": 43,
   "metadata": {
    "collapsed": false,
    "scrolled": false
   },
   "outputs": [
    {
     "data": {
      "text/plain": [
       "(1,.,.) = \n",
       " Columns 1 to 9\n",
       "  0.8039  0.8118  0.8039  0.8235  0.6118  0.3020  0.2196  0.2549  0.2863\n",
       "  0.8039  0.8078  0.8157  0.8078  0.4706  0.2980  0.3529  0.3647  0.3294\n",
       "  0.8039  0.8157  0.8157  0.6980  0.4196  0.5059  0.6039  0.6196  0.5529\n",
       "  0.7922  0.8039  0.8039  0.5882  0.4980  0.6000  0.6549  0.6588  0.6941\n",
       "  0.8078  0.8157  0.7686  0.5412  0.5373  0.6353  0.6549  0.6784  0.6863\n",
       "  0.8000  0.8235  0.7686  0.5529  0.5843  0.6549  0.7020  0.7137  0.7294\n",
       "  0.8157  0.8196  0.7294  0.5725  0.6078  0.6314  0.6118  0.6000  0.6431\n",
       "  0.8471  0.7961  0.6549  0.5765  0.6431  0.6314  0.5176  0.4784  0.5451\n",
       "  0.8392  0.8392  0.7176  0.5882  0.6314  0.6745  0.6314  0.6000  0.6314\n",
       "  0.8118  0.8078  0.7176  0.6235  0.6392  0.6980  0.7098  0.6863  0.6745\n",
       "  0.8000  0.7922  0.7216  0.6353  0.6353  0.6196  0.6275  0.6471  0.6588\n",
       "  0.7843  0.7765  0.7294  0.6863  0.6471  0.5882  0.6000  0.6118  0.6118\n",
       "  0.7725  0.7529  0.7020  0.7216  0.6588  0.5843  0.5882  0.5804  0.5647\n",
       "  0.7725  0.8275  0.7647  0.6627  0.6039  0.5490  0.5490  0.5490  0.5451\n",
       "  0.6941  0.4980  0.3961  0.2980  0.3922  0.5098  0.5412  0.5647  0.5922\n",
       "  0.2235  0.1922  0.1725  0.1294  0.4000  0.6118  0.4392  0.4353  0.4784\n",
       "\n",
       "Columns 10 to 16\n",
       "  0.3333  0.3294  0.2824  0.2549  0.5765  0.7647  0.7725\n",
       "  0.3255  0.3333  0.3569  0.3176  0.3216  0.6980  0.7490\n",
       "  0.5373  0.4902  0.4706  0.5216  0.3098  0.6353  0.7686\n",
       "  0.6784  0.6471  0.6078  0.5922  0.4196  0.5686  0.7765\n",
       "  0.6902  0.6667  0.6314  0.6078  0.4745  0.5725  0.7961\n",
       "  0.7137  0.6980  0.6392  0.6118  0.5059  0.5882  0.8235\n",
       "  0.6706  0.6627  0.6118  0.5961  0.5098  0.5882  0.7961\n",
       "  0.5922  0.5216  0.4745  0.5176  0.5059  0.4980  0.7137\n",
       "  0.6431  0.5529  0.5137  0.5373  0.5373  0.5686  0.7529\n",
       "  0.6588  0.6235  0.6196  0.5608  0.5294  0.6667  0.7686\n",
       "  0.6314  0.6039  0.5922  0.5529  0.5961  0.7765  0.7961\n",
       "  0.5843  0.5569  0.5412  0.4980  0.6667  0.8157  0.7843\n",
       "  0.5333  0.5098  0.4863  0.4353  0.5216  0.4980  0.4627\n",
       "  0.5020  0.4706  0.4627  0.3294  0.2078  0.1333  0.1255\n",
       "  0.5725  0.4667  0.4431  0.2941  0.1843  0.1765  0.1725\n",
       "  0.4078  0.4078  0.4118  0.2314  0.1843  0.1569  0.1765\n",
       "\n",
       "(2,.,.) = \n",
       " Columns 1 to 9\n",
       "  0.7333  0.7490  0.7412  0.7529  0.5412  0.2118  0.1294  0.1882  0.2196\n",
       "  0.7294  0.7294  0.7373  0.7176  0.3804  0.1961  0.2510  0.2627  0.2431\n",
       "  0.7294  0.7176  0.7176  0.5922  0.3137  0.3882  0.4863  0.4824  0.4314\n",
       "  0.7020  0.7059  0.6902  0.4667  0.3569  0.4549  0.5098  0.5098  0.5451\n",
       "  0.7176  0.7176  0.6549  0.4196  0.3961  0.4745  0.4941  0.5176  0.5255\n",
       "  0.7098  0.7176  0.6471  0.4196  0.4392  0.4941  0.5255  0.5412  0.5569\n",
       "  0.7098  0.6980  0.5882  0.4275  0.4431  0.4510  0.4196  0.4118  0.4588\n",
       "  0.7216  0.6627  0.5059  0.4314  0.4784  0.4510  0.3412  0.2863  0.3412\n",
       "  0.7137  0.7059  0.5686  0.4431  0.4667  0.4941  0.4510  0.4078  0.4235\n",
       "  0.7098  0.6902  0.5843  0.4824  0.4824  0.5216  0.5255  0.4902  0.4627\n",
       "  0.6980  0.6902  0.6039  0.5137  0.4941  0.4627  0.4549  0.4510  0.4431\n",
       "  0.6941  0.6863  0.6235  0.5608  0.5020  0.4392  0.4353  0.4235  0.4078\n",
       "  0.6824  0.6627  0.5961  0.5961  0.5137  0.4510  0.4431  0.4039  0.3765\n",
       "  0.6941  0.7451  0.6824  0.5529  0.4784  0.4118  0.4039  0.4039  0.3804\n",
       "  0.6314  0.4275  0.3255  0.2000  0.2824  0.3882  0.4039  0.4314  0.4471\n",
       "  0.1804  0.1333  0.1137  0.0588  0.3098  0.5059  0.3176  0.3333  0.3569\n",
       "\n",
       "Columns 10 to 16\n",
       "  0.2471  0.2431  0.2078  0.1843  0.5098  0.6980  0.7137\n",
       "  0.2196  0.2314  0.2667  0.2314  0.2471  0.6314  0.6941\n",
       "  0.4000  0.3529  0.3647  0.4196  0.2196  0.5529  0.6941\n",
       "  0.5373  0.5098  0.4667  0.4667  0.3098  0.4784  0.6863\n",
       "  0.5216  0.4980  0.4549  0.4549  0.3490  0.4627  0.7059\n",
       "  0.5255  0.5098  0.4588  0.4431  0.3725  0.4706  0.7255\n",
       "  0.4706  0.4627  0.4157  0.4157  0.3765  0.4706  0.6980\n",
       "  0.3961  0.3255  0.2941  0.3490  0.3725  0.4000  0.6235\n",
       "  0.4431  0.3529  0.3333  0.3686  0.4039  0.4706  0.6627\n",
       "  0.4392  0.4196  0.4431  0.4078  0.4039  0.5765  0.6824\n",
       "  0.4118  0.4000  0.4157  0.4000  0.4706  0.6863  0.7098\n",
       "  0.3804  0.3686  0.3804  0.3686  0.5647  0.7373  0.7294\n",
       "  0.3451  0.3373  0.3412  0.3216  0.4392  0.4471  0.4392\n",
       "  0.3451  0.3333"
      ]
     },
     "execution_count": 43,
     "metadata": {},
     "output_type": "execute_result"
    },
    {
     "ename": "bad argument #3 to '?' (out of range at /home/nicholas/torch/pkg/torch/lib/TH/generic/THTensor.c:359)\nstack traceback:\n\t[C]: at 0x7f6039444150\n\t[C]: in function '__newindex'\n\t[string \"require 'optim'...\"]:28: in main chunk\n\t[C]: in function 'xpcall'\n\t/home/nicholas/torch/install/share/lua/5.1/itorch/main.lua:210: in function </home/nicholas/torch/install/share/lua/5.1/itorch/main.lua:174>\n\t/home/nicholas/torch/install/share/lua/5.1/lzmq/poller.lua:75: in function 'poll'\n\t.../nicholas/torch/install/share/lua/5.1/lzmq/impl/loop.lua:307: in function 'poll'\n\t.../nicholas/torch/install/share/lua/5.1/lzmq/impl/loop.lua:325: in function 'sleep_ex'\n\t.../nicholas/torch/install/share/lua/5.1/lzmq/impl/loop.lua:370: in function 'start'\n\t/home/nicholas/torch/install/share/lua/5.1/itorch/main.lua:389: in main chunk\n\t[C]: in function 'require'\n\t(command line):1: in main chunk\n\t[C]: at 0x00405d50",
     "evalue": "",
     "output_type": "error",
     "traceback": [
      "bad argument #3 to '?' (out of range at /home/nicholas/torch/pkg/torch/lib/TH/generic/THTensor.c:359)\nstack traceback:\n\t[C]: at 0x7f6039444150\n\t[C]: in function '__newindex'\n\t[string \"require 'optim'...\"]:28: in main chunk\n\t[C]: in function 'xpcall'\n\t/home/nicholas/torch/install/share/lua/5.1/itorch/main.lua:210: in function </home/nicholas/torch/install/share/lua/5.1/itorch/main.lua:174>\n\t/home/nicholas/torch/install/share/lua/5.1/lzmq/poller.lua:75: in function 'poll'\n\t.../nicholas/torch/install/share/lua/5.1/lzmq/impl/loop.lua:307: in function 'poll'\n\t.../nicholas/torch/install/share/lua/5.1/lzmq/impl/loop.lua:325: in function 'sleep_ex'\n\t.../nicholas/torch/install/share/lua/5.1/lzmq/impl/loop.lua:370: in function 'start'\n\t/home/nicholas/torch/install/share/lua/5.1/itorch/main.lua:389: in main chunk\n\t[C]: in function 'require'\n\t(command line):1: in main chunk\n\t[C]: at 0x00405d50"
     ]
    },
    {
     "data": {
      "text/plain": [
       "  0.3373  0.2353  0.1294  0.0863  0.1098\n",
       "  0.4353  0.3451  0.3333  0.2118  0.1176  0.1412  0.1686\n",
       "  0.2902  0.3059  0.3216  0.1529  0.1333  0.1412  0.1765\n",
       "\n",
       "(3,.,.) = \n",
       " Columns 1 to 9\n",
       "  0.5922  0.6078  0.6000  0.6118  0.4000  0.0902  0.0078  0.0863  0.1176\n",
       "  0.6000  0.6000  0.6078  0.5961  0.2588  0.0902  0.1451  0.1725  0.1608\n",
       "  0.6000  0.5961  0.5961  0.4784  0.2000  0.2863  0.3843  0.4039  0.3608\n",
       "  0.5765  0.5843  0.5725  0.3569  0.2549  0.3490  0.4039  0.4196  0.4549\n",
       "  0.5922  0.5961  0.5373  0.3098  0.2941  0.3569  0.3765  0.4000  0.4078\n",
       "  0.5843  0.6039  0.5373  0.3137  0.3373  0.3843  0.4039  0.4039  0.4039\n",
       "  0.5922  0.5882  0.4863  0.3255  0.3490  0.3490  0.3020  0.2627  0.2941\n",
       "  0.6235  0.5647  0.4157  0.3294  0.3843  0.3490  0.2196  0.1569  0.1961\n",
       "  0.6157  0.6078  0.4784  0.3412  0.3725  0.4039  0.3490  0.2902  0.2980\n",
       "  0.6196  0.5882  0.4863  0.3804  0.3843  0.4314  0.4235  0.3843  0.3608\n",
       "  0.6078  0.5843  0.5020  0.4039  0.3922  0.3647  0.3490  0.3608  0.3608\n",
       "  0.5725  0.5647  0.5098  0.4627  0.4275  0.3490  0.3373  0.3373  0.3255\n",
       "  0.5608  0.5412  0.4824  0.4980  0.4392  0.3529  0.3373  0.3137  0.2902\n",
       "  0.5961  0.6392  0.5765  0.4588  0.3882  0.3255  0.3020  0.3020  0.2863\n",
       "  0.5412  0.3333  0.2314  0.1137  0.2000  0.3098  0.3176  0.3255  0.3451\n",
       "  0.1020  0.0588  0.0392  0.0000  0.2392  0.4314  0.2392  0.2431  0.2745\n",
       "\n",
       "Columns 10 to 16\n",
       "  0.1529  0.1490  0.0784  0.0353  0.3373  0.5255  0.5451\n",
       "  0.1373  0.1333  0.1451  0.0784  0.0784  0.4588  0.5176\n",
       "  0.3255  0.2667  0.2510  0.2745  0.0549  0.3843  0.5255\n",
       "  0.4353  0.3922  0.3412  0.3176  0.1529  0.3137  0.5216\n",
       "  0.3961  0.3608  0.3255  0.3020  0.1961  0.3059  0.5412\n",
       "  0.3686  0.3529  0.3176  0.3098  0.2275  0.3216  0.5686\n",
       "  0.3020  0.2941  0.2784  0.2863  0.2314  0.3216  0.5412\n",
       "  0.2510  0.1804  0.1529  0.2157  0.2235  0.2392  0.4588\n",
       "  0.3294  0.2392  0.1922  0.2353  0.2549  0.3098  0.4980\n",
       "  0.3490  0.3255  0.3137  0.2549  0.2431  0.4039  0.5216\n",
       "  0.3216  0.3059  0.2863  0.2471  0.3098  0.5137  0.5490\n",
       "  0.2941  0.2784  0.2627  0.2392  0.4275  0.5922  0.5843\n",
       "  0.2549  0.2392  0.2353  0.2039  0.3255  0.3216  0.3137\n",
       "  0.2431  0.2235  0.2392  0.1412  0.0353  0.0000  0.0118\n",
       "  0.3255  0.2314  0.2471  0.1294  0.0549  0.0824  0.0980\n",
       "  0.1961  0.2078  0.2510  0.1098  0.0980  0.1059  0.1294\n",
       "[torch.FloatTensor of size 3x16x16]\n",
       "\n",
       "  3\n",
       " 16\n",
       " 16\n",
       "[torch.LongStorage of size 3]\n",
       "\n",
       "  3\n",
       " 16\n",
       " 16\n",
       "[torch.LongStorage of size 3]\n",
       "\n"
      ]
     },
     "execution_count": 43,
     "metadata": {},
     "output_type": "execute_result"
    }
   ],
   "source": [
    "require 'optim'\n",
    "\n",
    "-- collectgarbage('setstepmul', 120)\n",
    "criterion = nn.AbsCriterion()\n",
    "if opt.gpu then\n",
    "    criterion:cuda()\n",
    "end\n",
    "local optimState = {learningRate = 0.001}\n",
    "\n",
    "epoch_tm = torch.Timer()\n",
    "total_tm = torch.Timer()\n",
    "for epoch = 1, opt.num_epoch do\n",
    "    \n",
    "    -- construct batch\n",
    "    inputs = torch.FloatTensor(opt.batchsize, opt.inchan * opt.num_frames, 16, 16)\n",
    "    labels = torch.FloatTensor(opt.batchsize, opt.outchan, 32, 32)\n",
    "    if opt.gpu then\n",
    "        inputs = input:cuda()\n",
    "        labels = labels:cuda()\n",
    "    end\n",
    "    bi = 0\n",
    "    while bi < opt.batchsize do\n",
    "        local rand_id = torch.random(2, input_imgs:size(1) - 1)\n",
    "        if invidnames[rand_id]:split(1)[1] == invidnames[rand_id - 1]:split(1)[1] and invidnames[rand_id]:split(1)[1] == invidnames[rand_id + 1]:split(1)[1] then\n",
    "            inputs[bi] = torch.cat(input_imgs[rand_id - 1], input_imgs[rand_id], 1):cat(input_imgs[rand_id + 1], 1)\n",
    "            labels[bi] = label_imgs[rand_id]\n",
    "            bi = bi + 1\n",
    "        end\n",
    "    end\n",
    "    \n",
    "    params, gradParams = gen:getParameters()\n",
    "    \n",
    "    -- evaluation, forwards/backward pass\n",
    "    fGx = function(params)\n",
    "        gradParams:zero()\n",
    "        outputs = gen:forward(inputs)\n",
    "\n",
    "        errG = criterion:forward(outputs, labels)\n",
    "        df_do = criterion:backward(outputs, labels)\n",
    "--         df_dg = disc:updateGradInput(inputs, df_do) -- when discriminator is implemented\n",
    "        gen:backward(inputs, df_do)\n",
    "        return errG, gradParams\n",
    "    end\n",
    "    \n",
    "    -- train\n",
    "    optim.adam(fGx, params, optimState)\n",
    "    \n",
    "    -- validate\n",
    "    if epoch % 200 == 0 then\n",
    "        outputs = gen:forward(valinputs)\n",
    "        if not opt.gpu then\n",
    "            for vi = 1, 4 do\n",
    "                itorch.image(valinputs[vi])\n",
    "                itorch.image(outputs[vi])\n",
    "                itorch.image(image.scale(valinputs[vi], 64, 64, 'simple'))\n",
    "                itorch.image(image.scale(outputs[vi], 64, 64, 'simple'))\n",
    "            end\n",
    "        end\n",
    "        valerr = criterion:forward(outputs, valtruths)\n",
    "        print(('\\nvalidation error at epoch = %d is %.4f \\t Time Taken: %.3f'):format(epoch, valerr, epoch_tm:time().real))\n",
    "        \n",
    "--         collectgarbage()\n",
    "        epoch_tm:reset()\n",
    "    end\n",
    "end\n",
    "print(('\\n total time taken: %.3f'):format(total_tm:time().real))\n",
    "gen:float()\n",
    "torch.save('srez_model.t7', gen)"
   ]
  },
  {
   "cell_type": "code",
   "execution_count": null,
   "metadata": {
    "collapsed": true
   },
   "outputs": [],
   "source": []
  }
 ],
 "metadata": {
  "anaconda-cloud": {},
  "kernelspec": {
   "display_name": "iTorch",
   "language": "lua",
   "name": "itorch"
  },
  "language_info": {
   "name": "lua",
   "version": "5.1"
  }
 },
 "nbformat": 4,
 "nbformat_minor": 1
}
